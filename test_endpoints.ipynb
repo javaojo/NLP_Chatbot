{
 "cells": [
  {
   "cell_type": "code",
   "execution_count": 4,
   "metadata": {},
   "outputs": [],
   "source": [
    "import requests\n",
    "import json"
   ]
  },
  {
   "cell_type": "markdown",
   "metadata": {},
   "source": [
    "run ```python run_and_build.py``` in a Terminal and wait till the server has booted"
   ]
  },
  {
   "cell_type": "code",
   "execution_count": 4,
   "metadata": {},
   "outputs": [
    {
     "name": "stdout",
     "output_type": "stream",
     "text": [
      "Bot: Hey there! Have you used DearBot before?\n",
      "User: no\n",
      "Bot: No worries, let's create a profile for you. What's your name?\n",
      "User: My name is Dobby\n",
      "Bot: Is Dobby your name?\n",
      "User: yes\n",
      "Bot: Hi Dobby! Can you please give me a special phrase that you'll use you access your diary?\n",
      "User: book\n",
      "Bot: Is book the phrase you'd like to use?\n",
      "User: no\n",
      "Bot: What would you like your phrase to be instead?\n",
      "User: sock\n",
      "Bot: Is sock the phrase you'd like to use?\n",
      "User: it is\n",
      "Bot: Thanks Dobby! Now that we've met, what would you like to do?\n",
      "User: it is\n",
      "Bot: Sorry I don't understand what you're trying to do.\n",
      "User: I want to add to my diary\n",
      "Bot: Tell me about your day!\n",
      "User: I was given a sock by Lucius Malfoy at Hogwarts. It was not good\n",
      "Bot: Thanks for telling me about your day. This was your entry:\n",
      "I was given a sock by Lucius Malfoy at Hogwarts. It was not good\n",
      "Is there anything else you'd like to do?\n",
      "User: nothing goodbye\n",
      "Bot: Thanks for using DearBot! Goodbye!\n",
      "Client closed\n"
     ]
    }
   ],
   "source": [
    "def get_response(url,data):\n",
    "    response = requests.post(url,json=data)\n",
    "    response = json.loads(response.text)\n",
    "    return response[\"response\"], response[\"state\"]\n",
    "\n",
    "def format_response(actor,response):\n",
    "    print(\"{}: {}\".format(actor,response))\n",
    "\n",
    "data={\"msg\":None}\n",
    "response, state= get_response('http://localhost:5000/start_greeting',data)\n",
    "format_response(\"Bot\",response)\n",
    "while state >0:\n",
    "    data[\"msg\"]=input()\n",
    "    format_response(\"User\",data[\"msg\"])\n",
    "    response, state= get_response('http://localhost:5000/get_response',data)\n",
    "    format_response(\"Bot\",response)\n",
    "    if response[-8:] == \"Goodbye!\":\n",
    "        break\n",
    "    if response in goodbye_phrases:\n",
    "        break\n",
    "\n",
    "print(\"Client closed\")"
   ]
  },
  {
   "cell_type": "code",
   "execution_count": null,
   "metadata": {},
   "outputs": [],
   "source": [
    "format_response(\"Bot\",response)\n",
    "while state >0:\n",
    "    data[\"msg\"]=input()\n",
    "    format_response(\"User\",data[\"msg\"])\n",
    "    response, state= get_response('http://localhost:5000/get_response',data)\n",
    "    format_response(\"Bot\",response)\n",
    "    if response[-8:] == \"Goodbye!\":\n",
    "        break\n",
    "\n",
    "print(\"Client closed\")"
   ]
  },
  {
   "cell_type": "code",
   "execution_count": null,
   "metadata": {},
   "outputs": [],
   "source": []
  }
 ],
 "metadata": {
  "interpreter": {
   "hash": "c18d149b1430996ab208b97416b2929d11b8b835656007a7ca35232ab6bc079f"
  },
  "kernelspec": {
   "display_name": "Python 3 (ipykernel)",
   "language": "python",
   "name": "python3"
  },
  "language_info": {
   "codemirror_mode": {
    "name": "ipython",
    "version": 3
   },
   "file_extension": ".py",
   "mimetype": "text/x-python",
   "name": "python",
   "nbconvert_exporter": "python",
   "pygments_lexer": "ipython3",
   "version": "3.9.7"
  }
 },
 "nbformat": 4,
 "nbformat_minor": 2
}
